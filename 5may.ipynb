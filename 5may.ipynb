{
 "cells": [
  {
   "cell_type": "code",
   "execution_count": 1,
   "id": "079d7438-eae0-46cc-a235-c452810414b8",
   "metadata": {},
   "outputs": [],
   "source": [
    "#1The seasonal component is that part of the variations in a time series representing intra-year fluctuations that are more or less stable year after year with respect to timing, direction and magnitude."
   ]
  },
  {
   "cell_type": "code",
   "execution_count": 2,
   "id": "f7096083-1347-487b-9112-77fedd27858e",
   "metadata": {},
   "outputs": [],
   "source": [
    "#2One way to detect seasonality in a time series is to plot it and look for repeating patterns or cycles. You can also use autocorrelation and partial autocorrelation functions to measure the correlation between the values of a time series and its lagged values."
   ]
  },
  {
   "cell_type": "code",
   "execution_count": 3,
   "id": "d4a006a0-c268-41d5-a9a6-71feddfe352b",
   "metadata": {},
   "outputs": [],
   "source": [
    "#3Seasonality may be caused by various factors, such as weather, vacation, and holidays and consists of periodic, repetitive, and generally regular and predictable patterns in the levels of a time series. Seasonal fluctuations in a time series can be contrasted with cyclical patterns."
   ]
  },
  {
   "cell_type": "code",
   "execution_count": 4,
   "id": "0950460c-1d97-4102-8d7c-78deee315a5e",
   "metadata": {},
   "outputs": [],
   "source": [
    "#4 The autoregressive model predicts the future based on the previous data. A lot of technical analysts use them to predict future security prices. In this type of analysis, time series values are correlated with their predecessors and successors."
   ]
  },
  {
   "cell_type": "code",
   "execution_count": 5,
   "id": "06aa2600-16ef-4170-b383-46178263072d",
   "metadata": {},
   "outputs": [],
   "source": [
    "#5The central idea behind autoregressive models is to predict the next value in a vector time series by using the squared coefficient of previous values. The autoregressive models are the statistical models that have worked well for us in various applications, such as time series forecasting and financial forecasting.\n"
   ]
  },
  {
   "cell_type": "code",
   "execution_count": 6,
   "id": "a75e4a7a-0db3-4e17-b7b6-2a642c7218f2",
   "metadata": {},
   "outputs": [],
   "source": [
    "#6 The moving average model is a time series model that accounts for very short-run autocorrelation. It basically states that the next observation is the mean of every past observation. The order of the moving average model, q, can usually be estimated by looking at the ACF plot of the time series."
   ]
  },
  {
   "cell_type": "code",
   "execution_count": null,
   "id": "04a95c6c-f2a7-4be2-b90e-69fc76bd7533",
   "metadata": {},
   "outputs": [],
   "source": [
    "#7"
   ]
  }
 ],
 "metadata": {
  "kernelspec": {
   "display_name": "Python 3 (ipykernel)",
   "language": "python",
   "name": "python3"
  },
  "language_info": {
   "codemirror_mode": {
    "name": "ipython",
    "version": 3
   },
   "file_extension": ".py",
   "mimetype": "text/x-python",
   "name": "python",
   "nbconvert_exporter": "python",
   "pygments_lexer": "ipython3",
   "version": "3.10.8"
  }
 },
 "nbformat": 4,
 "nbformat_minor": 5
}
